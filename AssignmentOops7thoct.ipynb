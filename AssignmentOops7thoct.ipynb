{
 "cells": [
  {
   "cell_type": "markdown",
   "id": "00aaa283-703e-47f7-aa91-722fbbf40179",
   "metadata": {},
   "source": [
    "# Problem 1: Bank Account Create a class representing a bank account with attributes like account number, account holder name, and balance. Implement methods to deposit and withdraw money from the account."
   ]
  },
  {
   "cell_type": "code",
   "execution_count": 9,
   "id": "1a13b77b-2153-4aa1-928f-e27b978aecda",
   "metadata": {},
   "outputs": [
    {
     "name": "stdout",
     "output_type": "stream",
     "text": [
      "Initial balance: $1000.0\n",
      "Deposited $500.0. New balance: $1500.0\n",
      "Withdrew $200.0. New balance: $1300.0\n",
      "Withdrew $800.0. New balance: $500.0\n"
     ]
    }
   ],
   "source": [
    "class BankAccount:\n",
    "    def __init__(self, account_number, account_holder_name, balance=0.0):\n",
    "        self.account_number = account_number\n",
    "        self.account_holder_name = account_holder_name\n",
    "        self.balance = balance\n",
    "\n",
    "    def deposit(self, amount):\n",
    "        if amount > 0:\n",
    "            self.balance += amount\n",
    "            print(f\"Deposited ${amount}. New balance: ${self.balance}\")\n",
    "        else:\n",
    "            print(\"Invalid deposit amount. Please enter a positive value.\")\n",
    "\n",
    "    def withdraw(self, amount):\n",
    "        if amount > 0 and amount <= self.balance:\n",
    "            self.balance -= amount\n",
    "            print(f\"Withdrew ${amount}. New balance: ${self.balance}\")\n",
    "        else:\n",
    "            print(\"Invalid withdrawal amount or insufficient funds.\")\n",
    "\n",
    "    def get_balance(self):\n",
    "        return self.balance\n",
    "\n",
    "# Example usage:\n",
    "account = BankAccount(account_number=\"123456789\", account_holder_name=\"John Doe\", balance=1000.0)\n",
    "print(f\"Initial balance: ${account.get_balance()}\")\n",
    "\n",
    "account.deposit(500.0)\n",
    "account.withdraw(200.0)\n",
    "account.withdraw(800.0)\n"
   ]
  },
  {
   "cell_type": "raw",
   "id": "1e6e8fe9-d25a-4606-b567-61cf19be50d1",
   "metadata": {},
   "source": [
    "This example defines a BankAccount class with an initializer (__init__) to set up the initial state of the account, and methods (deposit, withdraw, and get_balance) to interact with the account. The example usage at the end demonstrates creating an account, depositing money, and making withdrawals.\n"
   ]
  },
  {
   "cell_type": "markdown",
   "id": "9caad6c2-0f69-4389-aa37-4ba9882b0ff8",
   "metadata": {},
   "source": [
    "# Problem 2: Employee Management Create a class representing an employee with attributes like employee ID, name, and salary. Implement methods to calculate the yearly bonus and display employee details."
   ]
  },
  {
   "cell_type": "code",
   "execution_count": 10,
   "id": "e2e4b0c5-ec39-4e5f-aabc-3a2cd54915ed",
   "metadata": {},
   "outputs": [
    {
     "name": "stdout",
     "output_type": "stream",
     "text": [
      "Employee ID: E001\n",
      "Name: Alice\n",
      "Salary: $50000.0\n",
      "Yearly Bonus: $5000.0\n",
      "\n",
      "\n",
      "Employee ID: E002\n",
      "Name: Bob\n",
      "Salary: $60000.0\n",
      "Yearly Bonus: $6000.0\n"
     ]
    }
   ],
   "source": [
    "class Employee:\n",
    "    def __init__(self, employee_id, name, salary):\n",
    "        self.employee_id = employee_id\n",
    "        self.name = name\n",
    "        self.salary = salary\n",
    "\n",
    "    def calculate_yearly_bonus(self):\n",
    "        # Assuming a simple bonus calculation, such as 10% of the annual salary\n",
    "        bonus_percentage = 0.10\n",
    "        yearly_bonus = self.salary * bonus_percentage\n",
    "        return yearly_bonus\n",
    "\n",
    "    def display_details(self):\n",
    "        print(f\"Employee ID: {self.employee_id}\")\n",
    "        print(f\"Name: {self.name}\")\n",
    "        print(f\"Salary: ${self.salary}\")\n",
    "        print(f\"Yearly Bonus: ${self.calculate_yearly_bonus()}\")\n",
    "\n",
    "# Example usage:\n",
    "employee1 = Employee(employee_id=\"E001\", name=\"Alice\", salary=50000.0)\n",
    "employee2 = Employee(employee_id=\"E002\", name=\"Bob\", salary=60000.0)\n",
    "\n",
    "employee1.display_details()\n",
    "print(\"\\n\")  # Adding a newline for better readability\n",
    "employee2.display_details()\n"
   ]
  },
  {
   "cell_type": "raw",
   "id": "4fda44d3-48e2-42e0-a41c-f21c603710e8",
   "metadata": {},
   "source": [
    "In this example, the Employee class has an initializer (__init__) to set up the initial state of the employee, a calculate_yearly_bonus method to calculate the yearly bonus (in this case, 10% of the annual salary), and a display_details method to print the employee details, including the calculated yearly bonus.\n",
    "\n",
    "The example usage at the end demonstrates creating two employees, displaying their details, and calculating the yearly bonus. You can adjust the bonus calculation logic based on your specific requirements."
   ]
  },
  {
   "cell_type": "markdown",
   "id": "64019738-efa2-41f2-85b8-e76fe3d708ef",
   "metadata": {},
   "source": [
    "# Problem 3: Vehicle Rental Create a class representing a vehicle rental system. Implement methods to rent a vehicle, return a vehicle, and display available vehicles."
   ]
  },
  {
   "cell_type": "code",
   "execution_count": 11,
   "id": "8945ff6b-16a0-4d8d-a0dc-84943f0764ba",
   "metadata": {},
   "outputs": [
    {
     "name": "stdout",
     "output_type": "stream",
     "text": [
      "Available Vehicles:\n",
      "SUV (ID: V002)\n",
      "Car (ID: V001)\n",
      "Motorcycle (ID: V003)\n",
      "Vehicle Car (ID: V001) rented successfully.\n",
      "Available Vehicles:\n",
      "SUV (ID: V002)\n",
      "Motorcycle (ID: V003)\n",
      "Vehicle Car (ID: V001) returned successfully.\n",
      "Available Vehicles:\n",
      "SUV (ID: V002)\n",
      "Car (ID: V001)\n",
      "Motorcycle (ID: V003)\n"
     ]
    }
   ],
   "source": [
    "class VehicleRentalSystem:\n",
    "    def __init__(self):\n",
    "        self.available_vehicles = set()\n",
    "\n",
    "    def add_vehicle(self, vehicle):\n",
    "        self.available_vehicles.add(vehicle)\n",
    "\n",
    "    def rent_vehicle(self, vehicle):\n",
    "        if vehicle in self.available_vehicles:\n",
    "            self.available_vehicles.remove(vehicle)\n",
    "            print(f\"Vehicle {vehicle} rented successfully.\")\n",
    "        else:\n",
    "            print(f\"Sorry, {vehicle} is not available for rent.\")\n",
    "\n",
    "    def return_vehicle(self, vehicle):\n",
    "        self.available_vehicles.add(vehicle)\n",
    "        print(f\"Vehicle {vehicle} returned successfully.\")\n",
    "\n",
    "    def display_available_vehicles(self):\n",
    "        if self.available_vehicles:\n",
    "            print(\"Available Vehicles:\")\n",
    "            for vehicle in self.available_vehicles:\n",
    "                print(vehicle)\n",
    "        else:\n",
    "            print(\"No vehicles available at the moment.\")\n",
    "\n",
    "# Example usage:\n",
    "class Vehicle:\n",
    "    def __init__(self, vehicle_id, model):\n",
    "        self.vehicle_id = vehicle_id\n",
    "        self.model = model\n",
    "\n",
    "    def __str__(self):\n",
    "        return f\"{self.model} (ID: {self.vehicle_id})\"\n",
    "\n",
    "rental_system = VehicleRentalSystem()\n",
    "\n",
    "vehicle1 = Vehicle(vehicle_id=\"V001\", model=\"Car\")\n",
    "vehicle2 = Vehicle(vehicle_id=\"V002\", model=\"SUV\")\n",
    "vehicle3 = Vehicle(vehicle_id=\"V003\", model=\"Motorcycle\")\n",
    "\n",
    "rental_system.add_vehicle(vehicle1)\n",
    "rental_system.add_vehicle(vehicle2)\n",
    "rental_system.add_vehicle(vehicle3)\n",
    "\n",
    "rental_system.display_available_vehicles()\n",
    "\n",
    "rental_system.rent_vehicle(vehicle1)\n",
    "rental_system.display_available_vehicles()\n",
    "\n",
    "rental_system.return_vehicle(vehicle1)\n",
    "rental_system.display_available_vehicles()\n"
   ]
  },
  {
   "cell_type": "markdown",
   "id": "d312585b-5298-4795-b1f4-80e2fe54d450",
   "metadata": {},
   "source": [
    "In this example, the VehicleRentalSystem class has methods to add a vehicle, rent a vehicle, return a vehicle, and display available vehicles. The Vehicle class represents an individual vehicle with an ID and model.\n",
    "\n",
    "The example usage at the end demonstrates creating a VehicleRentalSystem, adding vehicles, renting and returning vehicles, and displaying the available vehicles. You can customize this example to suit the specific needs of your vehicle rental system.\n"
   ]
  },
  {
   "cell_type": "markdown",
   "id": "f9b3b859-a2c5-49e1-96bf-bdcc100b64d7",
   "metadata": {},
   "source": [
    "# Problem 4: Library Catalog Create classes representing a library and a book. Implement methods to add books to the library, borrow books, and display available books."
   ]
  },
  {
   "cell_type": "code",
   "execution_count": 12,
   "id": "f7cbedfa-3590-4f5e-b9eb-52c61c652d71",
   "metadata": {},
   "outputs": [
    {
     "name": "stdout",
     "output_type": "stream",
     "text": [
      "Available Books:\n",
      "The Great Gatsby by F. Scott Fitzgerald (ID: B001) - Available\n",
      "To Kill a Mockingbird by Harper Lee (ID: B002) - Available\n",
      "1984 by George Orwell (ID: B003) - Available\n",
      "Book 'The Great Gatsby' borrowed successfully.\n",
      "Available Books:\n",
      "To Kill a Mockingbird by Harper Lee (ID: B002) - Available\n",
      "1984 by George Orwell (ID: B003) - Available\n",
      "Book 'To Kill a Mockingbird' borrowed successfully.\n",
      "Available Books:\n",
      "1984 by George Orwell (ID: B003) - Available\n",
      "Book with ID B004 not found in the library.\n"
     ]
    }
   ],
   "source": [
    "class Book:\n",
    "    def __init__(self, book_id, title, author):\n",
    "        self.book_id = book_id\n",
    "        self.title = title\n",
    "        self.author = author\n",
    "        self.is_available = True\n",
    "\n",
    "    def __str__(self):\n",
    "        availability = \"Available\" if self.is_available else \"Not Available\"\n",
    "        return f\"{self.title} by {self.author} (ID: {self.book_id}) - {availability}\"\n",
    "\n",
    "class Library:\n",
    "    def __init__(self):\n",
    "        self.catalog = {}\n",
    "\n",
    "    def add_book(self, book):\n",
    "        self.catalog[book.book_id] = book\n",
    "\n",
    "    def borrow_book(self, book_id):\n",
    "        if book_id in self.catalog:\n",
    "            book = self.catalog[book_id]\n",
    "            if book.is_available:\n",
    "                book.is_available = False\n",
    "                print(f\"Book '{book.title}' borrowed successfully.\")\n",
    "            else:\n",
    "                print(f\"Book '{book.title}' is currently not available.\")\n",
    "        else:\n",
    "            print(f\"Book with ID {book_id} not found in the library.\")\n",
    "\n",
    "    def display_available_books(self):\n",
    "        available_books = [book for book in self.catalog.values() if book.is_available]\n",
    "        if available_books:\n",
    "            print(\"Available Books:\")\n",
    "            for book in available_books:\n",
    "                print(book)\n",
    "        else:\n",
    "            print(\"No books available at the moment.\")\n",
    "\n",
    "# Example usage:\n",
    "library = Library()\n",
    "\n",
    "book1 = Book(book_id=\"B001\", title=\"The Great Gatsby\", author=\"F. Scott Fitzgerald\")\n",
    "book2 = Book(book_id=\"B002\", title=\"To Kill a Mockingbird\", author=\"Harper Lee\")\n",
    "book3 = Book(book_id=\"B003\", title=\"1984\", author=\"George Orwell\")\n",
    "\n",
    "library.add_book(book1)\n",
    "library.add_book(book2)\n",
    "library.add_book(book3)\n",
    "\n",
    "library.display_available_books()\n",
    "\n",
    "library.borrow_book(\"B001\")\n",
    "library.display_available_books()\n",
    "\n",
    "library.borrow_book(\"B002\")\n",
    "library.display_available_books()\n",
    "\n",
    "library.borrow_book(\"B004\")  # Non-existent book\n"
   ]
  },
  {
   "cell_type": "markdown",
   "id": "bee5d409-86b1-48fb-a4bd-97743db98b11",
   "metadata": {},
   "source": [
    "The example usage at the end demonstrates creating a Library, adding books to it, borrowing books, and displaying available books. You can customize this example based on the specific needs of your library catalog"
   ]
  },
  {
   "cell_type": "markdown",
   "id": "dd380d8b-841b-4fbc-86b2-755553867b6e",
   "metadata": {},
   "source": [
    "# Problem 5: Product Inventory Create classes representing a product and an inventory system. Implement methods to add products to the inventory, update product quantity, and display available products."
   ]
  },
  {
   "cell_type": "code",
   "execution_count": 13,
   "id": "473e7798-f899-45ab-a3d9-3fa7b084798f",
   "metadata": {},
   "outputs": [
    {
     "name": "stdout",
     "output_type": "stream",
     "text": [
      "Product 'Laptop' added to the inventory.\n",
      "Product 'Smartphone' added to the inventory.\n",
      "Product 'Headphones' added to the inventory.\n",
      "Available Products:\n",
      "Laptop (ID: P001) - $999.99 - Quantity: 10\n",
      "Smartphone (ID: P002) - $499.99 - Quantity: 20\n",
      "Headphones (ID: P003) - $49.99 - Quantity: 30\n",
      "Quantity for product 'Laptop' updated to 5.\n",
      "Available Products:\n",
      "Laptop (ID: P001) - $999.99 - Quantity: 5\n",
      "Smartphone (ID: P002) - $499.99 - Quantity: 20\n",
      "Headphones (ID: P003) - $49.99 - Quantity: 30\n",
      "Product with ID P004 not found in the inventory.\n"
     ]
    }
   ],
   "source": [
    "class Product:\n",
    "    def __init__(self, product_id, name, price, quantity):\n",
    "        self.product_id = product_id\n",
    "        self.name = name\n",
    "        self.price = price\n",
    "        self.quantity = quantity\n",
    "\n",
    "    def __str__(self):\n",
    "        return f\"{self.name} (ID: {self.product_id}) - ${self.price} - Quantity: {self.quantity}\"\n",
    "\n",
    "class InventorySystem:\n",
    "    def __init__(self):\n",
    "        self.inventory = {}\n",
    "\n",
    "    def add_product(self, product):\n",
    "        if product.product_id not in self.inventory:\n",
    "            self.inventory[product.product_id] = product\n",
    "            print(f\"Product '{product.name}' added to the inventory.\")\n",
    "        else:\n",
    "            print(f\"Product with ID {product.product_id} already exists in the inventory.\")\n",
    "\n",
    "    def update_quantity(self, product_id, new_quantity):\n",
    "        if product_id in self.inventory:\n",
    "            product = self.inventory[product_id]\n",
    "            product.quantity = new_quantity\n",
    "            print(f\"Quantity for product '{product.name}' updated to {new_quantity}.\")\n",
    "        else:\n",
    "            print(f\"Product with ID {product_id} not found in the inventory.\")\n",
    "\n",
    "    def display_available_products(self):\n",
    "        if self.inventory:\n",
    "            print(\"Available Products:\")\n",
    "            for product in self.inventory.values():\n",
    "                print(product)\n",
    "        else:\n",
    "            print(\"No products available in the inventory.\")\n",
    "\n",
    "# Example usage:\n",
    "inventory_system = InventorySystem()\n",
    "\n",
    "product1 = Product(product_id=\"P001\", name=\"Laptop\", price=999.99, quantity=10)\n",
    "product2 = Product(product_id=\"P002\", name=\"Smartphone\", price=499.99, quantity=20)\n",
    "product3 = Product(product_id=\"P003\", name=\"Headphones\", price=49.99, quantity=30)\n",
    "\n",
    "inventory_system.add_product(product1)\n",
    "inventory_system.add_product(product2)\n",
    "inventory_system.add_product(product3)\n",
    "\n",
    "inventory_system.display_available_products()\n",
    "\n",
    "inventory_system.update_quantity(\"P001\", 5)\n",
    "inventory_system.display_available_products()\n",
    "\n",
    "inventory_system.update_quantity(\"P004\", 25)  # Non-existent product\n"
   ]
  },
  {
   "cell_type": "raw",
   "id": "380293d8-2b19-469c-9a8b-e2750162f492",
   "metadata": {},
   "source": [
    "The example usage at the end demonstrates creating an InventorySystem, adding products to it, updating product quantity, and displaying available products. You can customize this example based on the specific needs of your product inventory system."
   ]
  },
  {
   "cell_type": "markdown",
   "id": "3e1bc864-1f35-4e62-97b3-bcb18cd80454",
   "metadata": {},
   "source": [
    "# Problem 6: Shape Calculation Create a class representing a shape with attributes like length, width, and height. Implement methods to calculate the area and perimeter of the shape."
   ]
  },
  {
   "cell_type": "code",
   "execution_count": 17,
   "id": "8826ec67-767c-4230-ba96-1cf713e89259",
   "metadata": {},
   "outputs": [
    {
     "name": "stdout",
     "output_type": "stream",
     "text": [
      "Rectangle Area: 15\n",
      "Rectangle Perimeter: 16\n",
      "\n",
      "Triangle Area: 2.9047375096555625\n",
      "Triangle Perimeter: 9\n"
     ]
    }
   ],
   "source": [
    "class Shape:\n",
    "    def __init__(self, length=0, width=0, height=0):\n",
    "        self.length = length\n",
    "        self.width = width\n",
    "        self.height = height\n",
    "\n",
    "    def calculate_area(self):\n",
    "        raise NotImplementedError(\"Subclasses must implement the calculate_area method.\")\n",
    "\n",
    "    def calculate_perimeter(self):\n",
    "        raise NotImplementedError(\"Subclasses must implement the calculate_perimeter method.\")\n",
    "\n",
    "class Rectangle(Shape):\n",
    "    def calculate_area(self):\n",
    "        return self.length * self.width\n",
    "\n",
    "    def calculate_perimeter(self):\n",
    "        return 2 * (self.length + self.width)\n",
    "\n",
    "class Triangle(Shape):\n",
    "    def calculate_area(self):\n",
    "        # Using Heron's formula for the area of a triangle\n",
    "        s = (self.length + self.width + self.height) / 2\n",
    "        return (s * (s - self.length) * (s - self.width) * (s - self.height)) ** 0.5\n",
    "\n",
    "    def calculate_perimeter(self):\n",
    "        return self.length + self.width + self.height\n",
    "\n",
    "# Example usage:\n",
    "rectangle = Rectangle(length=5, width=3)\n",
    "triangle = Triangle(length=4, width=3, height=2)\n",
    "\n",
    "print(f\"Rectangle Area: {rectangle.calculate_area()}\")\n",
    "print(f\"Rectangle Perimeter: {rectangle.calculate_perimeter()}\")\n",
    "\n",
    "print(f\"\\nTriangle Area: {triangle.calculate_area()}\")\n",
    "print(f\"Triangle Perimeter: {triangle.calculate_perimeter()}\")\n"
   ]
  },
  {
   "cell_type": "raw",
   "id": "43c9ef6c-b536-4dbc-87ba-99e3123a212a",
   "metadata": {},
   "source": [
    "The example usage at the end demonstrates creating instances of Rectangle and Triangle and calculating their respective areas and perimeters. You can customize this example by adding more shape subclasses or modifying the calculations based on the specific shapes you want to support.\n"
   ]
  },
  {
   "cell_type": "markdown",
   "id": "5e988022-f86b-4946-a604-6abdfb76471e",
   "metadata": {},
   "source": [
    "# Problem 7: Student Management Create a class representing a student with attributes like student ID, name, and grades. Implement methods to calculate the average grade and display student details."
   ]
  },
  {
   "cell_type": "code",
   "execution_count": 19,
   "id": "78928ec2-35e5-4dcc-847a-3a7d25668ab7",
   "metadata": {},
   "outputs": [
    {
     "name": "stdout",
     "output_type": "stream",
     "text": [
      "Student ID: S001\n",
      "Name: Alice\n",
      "Grades: 90, 85, 92, 88\n",
      "Average Grade: 88.75\n",
      "\n",
      "\n",
      "Student ID: S002\n",
      "Name: Bob\n",
      "Grades: 78, 82, 88, 76\n",
      "Average Grade: 81.0\n"
     ]
    }
   ],
   "source": [
    "class Student:\n",
    "    def __init__(self, student_id, name, grades=[]):\n",
    "        self.student_id = student_id\n",
    "        self.name = name\n",
    "        self.grades = grades\n",
    "\n",
    "    def add_grade(self, grade):\n",
    "        self.grades.append(grade)\n",
    "\n",
    "    def calculate_average_grade(self):\n",
    "        if not self.grades:\n",
    "            return 0.0  # Return 0 if there are no grades to avoid division by zero\n",
    "        return sum(self.grades) / len(self.grades)\n",
    "\n",
    "    def display_details(self):\n",
    "        print(f\"Student ID: {self.student_id}\")\n",
    "        print(f\"Name: {self.name}\")\n",
    "        print(f\"Grades: {', '.join(map(str, self.grades))}\")\n",
    "        print(f\"Average Grade: {self.calculate_average_grade()}\")\n",
    "\n",
    "# Example usage:\n",
    "student1 = Student(student_id=\"S001\", name=\"Alice\", grades=[90, 85, 92, 88])\n",
    "student2 = Student(student_id=\"S002\", name=\"Bob\", grades=[78, 82, 88, 76])\n",
    "\n",
    "student1.display_details()\n",
    "print(\"\\n\")  # Adding a newline for better readability\n",
    "student2.display_details()\n"
   ]
  },
  {
   "cell_type": "markdown",
   "id": "28f3e30a-4f91-433d-892a-84f38c53dbb3",
   "metadata": {},
   "source": [
    "The example usage at the end demonstrates creating instances of Student, adding grades, and displaying student details including the average grade. You can customize this example based on your specific needs for student management.\n"
   ]
  },
  {
   "cell_type": "markdown",
   "id": "51930f8a-062e-4316-82bd-ca6f0ada2670",
   "metadata": {},
   "source": [
    "# Problem 8: Email Management Create a class representing an email with attributes like sender, recipient, and subject. Implement methods to send an email and display email details."
   ]
  },
  {
   "cell_type": "code",
   "execution_count": 20,
   "id": "76123658-baaa-4669-8075-a5d0bf3db9e3",
   "metadata": {},
   "outputs": [
    {
     "name": "stdout",
     "output_type": "stream",
     "text": [
      "Email Details:\n",
      "Sender: sender@example.com\n",
      "Recipient: recipient@example.com\n",
      "Subject: Greetings\n",
      "Body: Hello, how are you?\n",
      "Status: Not Sent\n",
      "Email sent from sender@example.com to recipient@example.com.\n",
      "Email Details:\n",
      "Sender: sender@example.com\n",
      "Recipient: recipient@example.com\n",
      "Subject: Greetings\n",
      "Body: Hello, how are you?\n",
      "Status: Sent\n",
      "\n",
      "\n",
      "Email Details:\n",
      "Sender: another_sender@example.com\n",
      "Recipient: yet_another_recipient@example.com\n",
      "Subject: Meeting\n",
      "Body: Let's schedule a meeting.\n",
      "Status: Not Sent\n",
      "Email sent from another_sender@example.com to yet_another_recipient@example.com.\n",
      "Email Details:\n",
      "Sender: another_sender@example.com\n",
      "Recipient: yet_another_recipient@example.com\n",
      "Subject: Meeting\n",
      "Body: Let's schedule a meeting.\n",
      "Status: Sent\n"
     ]
    }
   ],
   "source": [
    "class Email:\n",
    "    def __init__(self, sender, recipient, subject, body):\n",
    "        self.sender = sender\n",
    "        self.recipient = recipient\n",
    "        self.subject = subject\n",
    "        self.body = body\n",
    "        self.is_sent = False\n",
    "\n",
    "    def send_email(self):\n",
    "        if not self.is_sent:\n",
    "            print(f\"Email sent from {self.sender} to {self.recipient}.\")\n",
    "            self.is_sent = True\n",
    "        else:\n",
    "            print(\"This email has already been sent.\")\n",
    "\n",
    "    def display_details(self):\n",
    "        print(\"Email Details:\")\n",
    "        print(f\"Sender: {self.sender}\")\n",
    "        print(f\"Recipient: {self.recipient}\")\n",
    "        print(f\"Subject: {self.subject}\")\n",
    "        print(f\"Body: {self.body}\")\n",
    "        print(f\"Status: {'Sent' if self.is_sent else 'Not Sent'}\")\n",
    "\n",
    "# Example usage:\n",
    "email1 = Email(sender=\"sender@example.com\", recipient=\"recipient@example.com\", subject=\"Greetings\", body=\"Hello, how are you?\")\n",
    "email2 = Email(sender=\"another_sender@example.com\", recipient=\"yet_another_recipient@example.com\", subject=\"Meeting\", body=\"Let's schedule a meeting.\")\n",
    "\n",
    "email1.display_details()\n",
    "email1.send_email()\n",
    "email1.display_details()\n",
    "\n",
    "print(\"\\n\")  # Adding a newline for better readability\n",
    "\n",
    "email2.display_details()\n",
    "email2.send_email()\n",
    "email2.display_details()\n"
   ]
  },
  {
   "cell_type": "markdown",
   "id": "e73845ca-91f5-40d5-a614-7f14867c3e67",
   "metadata": {},
   "source": [
    "The example usage at the end demonstrates creating instances of Email, displaying their details, sending emails, and displaying updated details after sending. You can customize this example based on your specific needs for email management."
   ]
  },
  {
   "cell_type": "markdown",
   "id": "e90a4f30-5d08-4c88-8c51-36b145ff0b19",
   "metadata": {},
   "source": [
    "# Problem 9: Social Media Profile Create a class representing a social media profile with attributes like username and posts. Implement methods to add posts, display posts, and search for posts by keyword"
   ]
  },
  {
   "cell_type": "code",
   "execution_count": 21,
   "id": "8df6133c-9b81-4bd0-8918-b1da3cbe7093",
   "metadata": {},
   "outputs": [
    {
     "name": "stdout",
     "output_type": "stream",
     "text": [
      "Post added successfully.\n",
      "Post added successfully.\n",
      "Post added successfully.\n",
      "Posts by john_doe:\n",
      "- Having a great day!\n",
      "- Just finished reading a good book.\n",
      "- Eating pizza for dinner!\n",
      "\n",
      "\n",
      "Posts containing 'reading':\n",
      "- Just finished reading a good book.\n",
      "Posts containing 'pizza':\n",
      "- Eating pizza for dinner!\n",
      "No posts containing 'vacation' found.\n"
     ]
    }
   ],
   "source": [
    "class SocialMediaProfile:\n",
    "    def __init__(self, username):\n",
    "        self.username = username\n",
    "        self.posts = []\n",
    "\n",
    "    def add_post(self, post_content):\n",
    "        post = {\"username\": self.username, \"content\": post_content}\n",
    "        self.posts.append(post)\n",
    "        print(\"Post added successfully.\")\n",
    "\n",
    "    def display_posts(self):\n",
    "        if not self.posts:\n",
    "            print(\"No posts available.\")\n",
    "        else:\n",
    "            print(f\"Posts by {self.username}:\")\n",
    "            for post in self.posts:\n",
    "                print(f\"- {post['content']}\")\n",
    "\n",
    "    def search_posts_by_keyword(self, keyword):\n",
    "        matching_posts = [post['content'] for post in self.posts if keyword.lower() in post['content'].lower()]\n",
    "        if matching_posts:\n",
    "            print(f\"Posts containing '{keyword}':\")\n",
    "            for post_content in matching_posts:\n",
    "                print(f\"- {post_content}\")\n",
    "        else:\n",
    "            print(f\"No posts containing '{keyword}' found.\")\n",
    "\n",
    "# Example usage:\n",
    "profile = SocialMediaProfile(username=\"john_doe\")\n",
    "\n",
    "profile.add_post(\"Having a great day!\")\n",
    "profile.add_post(\"Just finished reading a good book.\")\n",
    "profile.add_post(\"Eating pizza for dinner!\")\n",
    "\n",
    "profile.display_posts()\n",
    "\n",
    "print(\"\\n\")  # Adding a newline for better readability\n",
    "\n",
    "profile.search_posts_by_keyword(\"reading\")\n",
    "profile.search_posts_by_keyword(\"pizza\")\n",
    "profile.search_posts_by_keyword(\"vacation\")\n"
   ]
  },
  {
   "cell_type": "raw",
   "id": "d3e12dee-21de-4f59-b149-9cd59d2be622",
   "metadata": {},
   "source": [
    "The example usage at the end demonstrates creating an instance of SocialMediaProfile, adding posts, displaying posts, and searching for posts by keyword. You can customize this example based on your specific needs for a social media profile."
   ]
  },
  {
   "cell_type": "markdown",
   "id": "a5213896-ff15-4a13-a3ba-24368c8b2fe0",
   "metadata": {},
   "source": [
    "# Problem 10: ToDo List Create a class representing a ToDo list with attributes like tasks and due dates. Implement methods to add tasks, mark tasks as completed, and display pending tasks.\n",
    "\n"
   ]
  },
  {
   "cell_type": "code",
   "execution_count": 23,
   "id": "6850d0df-9258-48d5-aaf0-0f9bfd6f6710",
   "metadata": {},
   "outputs": [
    {
     "name": "stdout",
     "output_type": "stream",
     "text": [
      "Task added successfully.\n",
      "Task added successfully.\n",
      "Task added successfully.\n",
      "Pending Tasks:\n",
      "1. Complete project\n",
      "2. Go to the gym (Due Date: 2023-12-31)\n",
      "3. Read a chapter of a book (Due Date: 2023-12-15)\n",
      "\n",
      "\n",
      "Task 'Complete project' marked as completed.\n",
      "Pending Tasks:\n",
      "1. Go to the gym (Due Date: 2023-12-31)\n",
      "2. Read a chapter of a book (Due Date: 2023-12-15)\n",
      "\n",
      "\n",
      "Task 'Read a chapter of a book' marked as completed.\n"
     ]
    }
   ],
   "source": [
    "from datetime import datetime\n",
    "\n",
    "class ToDoList:\n",
    "    def __init__(self):\n",
    "        self.tasks = []\n",
    "\n",
    "    def add_task(self, task, due_date=None):\n",
    "        new_task = {\"task\": task, \"due_date\": due_date, \"completed\": False}\n",
    "        self.tasks.append(new_task)\n",
    "        print(\"Task added successfully.\")\n",
    "\n",
    "    def mark_task_as_completed(self, task_index):\n",
    "        if 0 <= task_index < len(self.tasks):\n",
    "            self.tasks[task_index][\"completed\"] = True\n",
    "            print(f\"Task '{self.tasks[task_index]['task']}' marked as completed.\")\n",
    "        else:\n",
    "            print(\"Invalid task index.\")\n",
    "\n",
    "    def display_pending_tasks(self):\n",
    "        pending_tasks = [task for task in self.tasks if not task[\"completed\"]]\n",
    "        if pending_tasks:\n",
    "            print(\"Pending Tasks:\")\n",
    "            for index, task in enumerate(pending_tasks):\n",
    "                due_date_info = f\" (Due Date: {task['due_date']})\" if task['due_date'] else \"\"\n",
    "                print(f\"{index + 1}. {task['task']}{due_date_info}\")\n",
    "        else:\n",
    "            print(\"No pending tasks.\")\n",
    "\n",
    "# Example usage:\n",
    "todo_list = ToDoList()\n",
    "\n",
    "todo_list.add_task(\"Complete project\")\n",
    "todo_list.add_task(\"Go to the gym\", due_date=\"2023-12-31\")\n",
    "todo_list.add_task(\"Read a chapter of a book\", due_date=\"2023-12-15\")\n",
    "\n",
    "todo_list.display_pending_tasks()\n",
    "\n",
    "print(\"\\n\")  # Adding a newline for better readability\n",
    "\n",
    "todo_list.mark_task_as_completed(0)\n",
    "todo_list.display_pending_tasks()\n",
    "\n",
    "print(\"\\n\")  # Adding a newline for better readability\n",
    "\n",
    "todo_list.mark_task_as_completed(2)  # Invalid index\n"
   ]
  },
  {
   "cell_type": "markdown",
   "id": "ab7882dc-6bbd-4583-9c16-c193e4074259",
   "metadata": {},
   "source": [
    "The example usage at the end demonstrates creating an instance of ToDoList, adding tasks, displaying pending tasks, marking a task as completed, and displaying updated pending tasks. You can customize this example based on your specific needs for a ToDo list.\n"
   ]
  },
  {
   "cell_type": "code",
   "execution_count": null,
   "id": "42f35780-d03d-4dad-9480-4002bb60b824",
   "metadata": {},
   "outputs": [],
   "source": []
  }
 ],
 "metadata": {
  "kernelspec": {
   "display_name": "Python 3 (ipykernel)",
   "language": "python",
   "name": "python3"
  },
  "language_info": {
   "codemirror_mode": {
    "name": "ipython",
    "version": 3
   },
   "file_extension": ".py",
   "mimetype": "text/x-python",
   "name": "python",
   "nbconvert_exporter": "python",
   "pygments_lexer": "ipython3",
   "version": "3.11.5"
  }
 },
 "nbformat": 4,
 "nbformat_minor": 5
}
